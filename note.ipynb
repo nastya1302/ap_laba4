{
 "cells": [
  {
   "cell_type": "code",
   "execution_count": 23,
   "metadata": {},
   "outputs": [],
   "source": [
    "import pandas as pd\n",
    "import numpy as np\n",
    "import cv2"
   ]
  },
  {
   "cell_type": "markdown",
   "metadata": {},
   "source": [
    "1. Forming a dataframe with columns \"Absolute path\" and \"Class name\"."
   ]
  },
  {
   "cell_type": "code",
   "execution_count": 24,
   "metadata": {},
   "outputs": [
    {
     "name": "stdout",
     "output_type": "stream",
     "text": [
      "                                        Absolute path Class name\n",
      "0      C:\\Users\\nasty\\ap_laba2\\dataset1\\rose\\0000.jpg       rose\n",
      "1      C:\\Users\\nasty\\ap_laba2\\dataset1\\rose\\0001.jpg       rose\n",
      "2      C:\\Users\\nasty\\ap_laba2\\dataset1\\rose\\0002.jpg       rose\n",
      "3      C:\\Users\\nasty\\ap_laba2\\dataset1\\rose\\0003.jpg       rose\n",
      "4      C:\\Users\\nasty\\ap_laba2\\dataset1\\rose\\0004.jpg       rose\n",
      "...                                               ...        ...\n",
      "1995  C:\\Users\\nasty\\ap_laba2\\dataset1\\tulip\\0995.jpg      tulip\n",
      "1996  C:\\Users\\nasty\\ap_laba2\\dataset1\\tulip\\0996.jpg      tulip\n",
      "1997  C:\\Users\\nasty\\ap_laba2\\dataset1\\tulip\\0997.jpg      tulip\n",
      "1998  C:\\Users\\nasty\\ap_laba2\\dataset1\\tulip\\0998.jpg      tulip\n",
      "1999  C:\\Users\\nasty\\ap_laba2\\dataset1\\tulip\\0999.jpg      tulip\n",
      "\n",
      "[2000 rows x 2 columns]\n"
     ]
    }
   ],
   "source": [
    "df = pd.read_csv('Annotasion.csv', usecols=[\"Absolute path\", \"Class name\"])\n",
    "print(df)"
   ]
  },
  {
   "cell_type": "markdown",
   "metadata": {},
   "source": [
    "2. Rename name columns."
   ]
  },
  {
   "cell_type": "code",
   "execution_count": 25,
   "metadata": {},
   "outputs": [
    {
     "name": "stdout",
     "output_type": "stream",
     "text": [
      "                                              absPath className\n",
      "0      C:\\Users\\nasty\\ap_laba2\\dataset1\\rose\\0000.jpg      rose\n",
      "1      C:\\Users\\nasty\\ap_laba2\\dataset1\\rose\\0001.jpg      rose\n",
      "2      C:\\Users\\nasty\\ap_laba2\\dataset1\\rose\\0002.jpg      rose\n",
      "3      C:\\Users\\nasty\\ap_laba2\\dataset1\\rose\\0003.jpg      rose\n",
      "4      C:\\Users\\nasty\\ap_laba2\\dataset1\\rose\\0004.jpg      rose\n",
      "...                                               ...       ...\n",
      "1995  C:\\Users\\nasty\\ap_laba2\\dataset1\\tulip\\0995.jpg     tulip\n",
      "1996  C:\\Users\\nasty\\ap_laba2\\dataset1\\tulip\\0996.jpg     tulip\n",
      "1997  C:\\Users\\nasty\\ap_laba2\\dataset1\\tulip\\0997.jpg     tulip\n",
      "1998  C:\\Users\\nasty\\ap_laba2\\dataset1\\tulip\\0998.jpg     tulip\n",
      "1999  C:\\Users\\nasty\\ap_laba2\\dataset1\\tulip\\0999.jpg     tulip\n",
      "\n",
      "[2000 rows x 2 columns]\n"
     ]
    }
   ],
   "source": [
    "df = df.rename(columns={'Absolute path': 'absPath',\n",
    "               'Class name': 'className'})\n",
    "print(df)"
   ]
  },
  {
   "cell_type": "markdown",
   "metadata": {},
   "source": [
    "3. Adding a new column."
   ]
  },
  {
   "cell_type": "code",
   "execution_count": 26,
   "metadata": {},
   "outputs": [
    {
     "name": "stdout",
     "output_type": "stream",
     "text": [
      "                                              absPath className  marks\n",
      "0      C:\\Users\\nasty\\ap_laba2\\dataset1\\rose\\0000.jpg      rose      0\n",
      "1      C:\\Users\\nasty\\ap_laba2\\dataset1\\rose\\0001.jpg      rose      0\n",
      "2      C:\\Users\\nasty\\ap_laba2\\dataset1\\rose\\0002.jpg      rose      0\n",
      "3      C:\\Users\\nasty\\ap_laba2\\dataset1\\rose\\0003.jpg      rose      0\n",
      "4      C:\\Users\\nasty\\ap_laba2\\dataset1\\rose\\0004.jpg      rose      0\n",
      "...                                               ...       ...    ...\n",
      "1995  C:\\Users\\nasty\\ap_laba2\\dataset1\\tulip\\0995.jpg     tulip      1\n",
      "1996  C:\\Users\\nasty\\ap_laba2\\dataset1\\tulip\\0996.jpg     tulip      1\n",
      "1997  C:\\Users\\nasty\\ap_laba2\\dataset1\\tulip\\0997.jpg     tulip      1\n",
      "1998  C:\\Users\\nasty\\ap_laba2\\dataset1\\tulip\\0998.jpg     tulip      1\n",
      "1999  C:\\Users\\nasty\\ap_laba2\\dataset1\\tulip\\0999.jpg     tulip      1\n",
      "\n",
      "[2000 rows x 3 columns]\n"
     ]
    }
   ],
   "source": [
    "df[\"marks\"] = 0\n",
    "df.loc[df[\"className\"] == \"tulip\", \"marks\"] = 1\n",
    "print(df)"
   ]
  },
  {
   "cell_type": "markdown",
   "metadata": {},
   "source": [
    "4. Adding columns with information about height, width and depth."
   ]
  },
  {
   "cell_type": "code",
   "execution_count": 27,
   "metadata": {},
   "outputs": [
    {
     "name": "stdout",
     "output_type": "stream",
     "text": [
      "                                              absPath className  marks  height\n",
      "0      C:\\Users\\nasty\\ap_laba2\\dataset1\\rose\\0000.jpg      rose      0    1600\n",
      "1      C:\\Users\\nasty\\ap_laba2\\dataset1\\rose\\0001.jpg      rose      0    1125\n",
      "2      C:\\Users\\nasty\\ap_laba2\\dataset1\\rose\\0002.jpg      rose      0    1200\n",
      "3      C:\\Users\\nasty\\ap_laba2\\dataset1\\rose\\0003.jpg      rose      0    1397\n",
      "4      C:\\Users\\nasty\\ap_laba2\\dataset1\\rose\\0004.jpg      rose      0    1200\n",
      "...                                               ...       ...    ...     ...\n",
      "1995  C:\\Users\\nasty\\ap_laba2\\dataset1\\tulip\\0995.jpg     tulip      1    1280\n",
      "1996  C:\\Users\\nasty\\ap_laba2\\dataset1\\tulip\\0996.jpg     tulip      1    1024\n",
      "1997  C:\\Users\\nasty\\ap_laba2\\dataset1\\tulip\\0997.jpg     tulip      1    1200\n",
      "1998  C:\\Users\\nasty\\ap_laba2\\dataset1\\tulip\\0998.jpg     tulip      1    1364\n",
      "1999  C:\\Users\\nasty\\ap_laba2\\dataset1\\tulip\\0999.jpg     tulip      1    1200\n",
      "\n",
      "[2000 rows x 4 columns]\n"
     ]
    }
   ],
   "source": [
    "height_i = []\n",
    "for i in range(df[\"absPath\"].size):\n",
    "    img = cv2.imread(df[\"absPath\"].iloc[i])\n",
    "    if img is not None:\n",
    "      height_i.append(img.shape[0])\n",
    "    else:\n",
    "       print(df[\"absPath\"].iloc[i])\n",
    "\n",
    "df[\"height\"] = height_i\n",
    "print(df)"
   ]
  },
  {
   "cell_type": "code",
   "execution_count": 28,
   "metadata": {},
   "outputs": [
    {
     "name": "stdout",
     "output_type": "stream",
     "text": [
      "                                              absPath className  marks  \\\n",
      "0      C:\\Users\\nasty\\ap_laba2\\dataset1\\rose\\0000.jpg      rose      0   \n",
      "1      C:\\Users\\nasty\\ap_laba2\\dataset1\\rose\\0001.jpg      rose      0   \n",
      "2      C:\\Users\\nasty\\ap_laba2\\dataset1\\rose\\0002.jpg      rose      0   \n",
      "3      C:\\Users\\nasty\\ap_laba2\\dataset1\\rose\\0003.jpg      rose      0   \n",
      "4      C:\\Users\\nasty\\ap_laba2\\dataset1\\rose\\0004.jpg      rose      0   \n",
      "...                                               ...       ...    ...   \n",
      "1995  C:\\Users\\nasty\\ap_laba2\\dataset1\\tulip\\0995.jpg     tulip      1   \n",
      "1996  C:\\Users\\nasty\\ap_laba2\\dataset1\\tulip\\0996.jpg     tulip      1   \n",
      "1997  C:\\Users\\nasty\\ap_laba2\\dataset1\\tulip\\0997.jpg     tulip      1   \n",
      "1998  C:\\Users\\nasty\\ap_laba2\\dataset1\\tulip\\0998.jpg     tulip      1   \n",
      "1999  C:\\Users\\nasty\\ap_laba2\\dataset1\\tulip\\0999.jpg     tulip      1   \n",
      "\n",
      "      height  width  \n",
      "0       1600   2400  \n",
      "1       1125   1500  \n",
      "2       1200   1920  \n",
      "3       1397   2048  \n",
      "4       1200   1920  \n",
      "...      ...    ...  \n",
      "1995    1280   1920  \n",
      "1996    1024   1024  \n",
      "1997    1200   1920  \n",
      "1998    1364    910  \n",
      "1999    1200   1920  \n",
      "\n",
      "[2000 rows x 5 columns]\n"
     ]
    }
   ],
   "source": [
    "width_i = []\n",
    "for i in range(df[\"absPath\"].size):\n",
    "    img = cv2.imread(df[\"absPath\"].iloc[i])\n",
    "    if img is not None:\n",
    "      width_i.append(img.shape[1])\n",
    "    else:\n",
    "       print(df[\"absPath\"].iloc[i])\n",
    "\n",
    "df[\"width\"] = width_i\n",
    "print(df)"
   ]
  },
  {
   "cell_type": "code",
   "execution_count": 29,
   "metadata": {},
   "outputs": [
    {
     "name": "stdout",
     "output_type": "stream",
     "text": [
      "                                              absPath className  marks  \\\n",
      "0      C:\\Users\\nasty\\ap_laba2\\dataset1\\rose\\0000.jpg      rose      0   \n",
      "1      C:\\Users\\nasty\\ap_laba2\\dataset1\\rose\\0001.jpg      rose      0   \n",
      "2      C:\\Users\\nasty\\ap_laba2\\dataset1\\rose\\0002.jpg      rose      0   \n",
      "3      C:\\Users\\nasty\\ap_laba2\\dataset1\\rose\\0003.jpg      rose      0   \n",
      "4      C:\\Users\\nasty\\ap_laba2\\dataset1\\rose\\0004.jpg      rose      0   \n",
      "...                                               ...       ...    ...   \n",
      "1995  C:\\Users\\nasty\\ap_laba2\\dataset1\\tulip\\0995.jpg     tulip      1   \n",
      "1996  C:\\Users\\nasty\\ap_laba2\\dataset1\\tulip\\0996.jpg     tulip      1   \n",
      "1997  C:\\Users\\nasty\\ap_laba2\\dataset1\\tulip\\0997.jpg     tulip      1   \n",
      "1998  C:\\Users\\nasty\\ap_laba2\\dataset1\\tulip\\0998.jpg     tulip      1   \n",
      "1999  C:\\Users\\nasty\\ap_laba2\\dataset1\\tulip\\0999.jpg     tulip      1   \n",
      "\n",
      "      height  width  depth  \n",
      "0       1600   2400      3  \n",
      "1       1125   1500      3  \n",
      "2       1200   1920      3  \n",
      "3       1397   2048      3  \n",
      "4       1200   1920      3  \n",
      "...      ...    ...    ...  \n",
      "1995    1280   1920      3  \n",
      "1996    1024   1024      3  \n",
      "1997    1200   1920      3  \n",
      "1998    1364    910      3  \n",
      "1999    1200   1920      3  \n",
      "\n",
      "[2000 rows x 6 columns]\n"
     ]
    }
   ],
   "source": [
    "depth_i = []\n",
    "for i in range(df[\"absPath\"].size):\n",
    "    img = cv2.imread(df[\"absPath\"].iloc[i])\n",
    "    if img is not None:\n",
    "      depth_i.append(img.shape[2])\n",
    "    else:\n",
    "       print(df[\"absPath\"].iloc[i])\n",
    "\n",
    "df[\"depth\"] = depth_i\n",
    "print(df)"
   ]
  },
  {
   "cell_type": "markdown",
   "metadata": {},
   "source": [
    "5. Output of statistical information for columns: height, depth, width, marks."
   ]
  },
  {
   "cell_type": "code",
   "execution_count": 30,
   "metadata": {},
   "outputs": [
    {
     "name": "stdout",
     "output_type": "stream",
     "text": [
      "\n",
      "statistical information for marks\n",
      " count    2000.000000\n",
      "mean        0.500000\n",
      "std         0.500125\n",
      "min         0.000000\n",
      "25%         0.000000\n",
      "50%         0.500000\n",
      "75%         1.000000\n",
      "max         1.000000\n",
      "Name: marks, dtype: float64\n",
      "\n",
      "statistical information for height\n",
      " count    2000.00000\n",
      "mean     1404.41500\n",
      "std       585.06188\n",
      "min       157.00000\n",
      "25%      1050.00000\n",
      "50%      1214.50000\n",
      "75%      1728.25000\n",
      "max      7498.00000\n",
      "Name: height, dtype: float64\n",
      "\n",
      "statistical information for width\n",
      " count    2000.000000\n",
      "mean     1958.948000\n",
      "std       785.311372\n",
      "min       308.000000\n",
      "25%      1292.000000\n",
      "50%      1920.000000\n",
      "75%      2560.000000\n",
      "max      8000.000000\n",
      "Name: width, dtype: float64\n",
      "\n",
      "statistical information for depth\n",
      " count    2000.0\n",
      "mean        3.0\n",
      "std         0.0\n",
      "min         3.0\n",
      "25%         3.0\n",
      "50%         3.0\n",
      "75%         3.0\n",
      "max         3.0\n",
      "Name: depth, dtype: float64\n"
     ]
    }
   ],
   "source": [
    "stats_m = df['marks'].describe() \n",
    "stats_h = df['height'].describe() \n",
    "stats_w = df['width'].describe() \n",
    "stats_d = df['depth'].describe() \n",
    "print(\"\\nstatistical information for marks\\n\", stats_m)\n",
    "print(\"\\nstatistical information for height\\n\", stats_h)\n",
    "print(\"\\nstatistical information for width\\n\", stats_w)\n",
    "print(\"\\nstatistical information for depth\\n\", stats_d)"
   ]
  },
  {
   "cell_type": "markdown",
   "metadata": {},
   "source": [
    "6. "
   ]
  }
 ],
 "metadata": {
  "kernelspec": {
   "display_name": "base",
   "language": "python",
   "name": "python3"
  },
  "language_info": {
   "codemirror_mode": {
    "name": "ipython",
    "version": 3
   },
   "file_extension": ".py",
   "mimetype": "text/x-python",
   "name": "python",
   "nbconvert_exporter": "python",
   "pygments_lexer": "ipython3",
   "version": "3.11.5"
  }
 },
 "nbformat": 4,
 "nbformat_minor": 2
}
